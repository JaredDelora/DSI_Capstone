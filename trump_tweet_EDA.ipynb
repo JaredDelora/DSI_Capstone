{
 "cells": [
  {
   "cell_type": "code",
   "execution_count": 1,
   "metadata": {},
   "outputs": [],
   "source": [
    "import pandas as pd"
   ]
  },
  {
   "cell_type": "code",
   "execution_count": 2,
   "metadata": {},
   "outputs": [],
   "source": [
    "df = pd.read_csv('./Data/trumptweets.csv')"
   ]
  },
  {
   "cell_type": "code",
   "execution_count": 3,
   "metadata": {},
   "outputs": [
    {
     "data": {
      "text/plain": [
       "(7497, 7)"
      ]
     },
     "execution_count": 3,
     "metadata": {},
     "output_type": "execute_result"
    }
   ],
   "source": [
    "df.shape"
   ]
  },
  {
   "cell_type": "code",
   "execution_count": 5,
   "metadata": {},
   "outputs": [
    {
     "data": {
      "text/html": [
       "<div>\n",
       "<style scoped>\n",
       "    .dataframe tbody tr th:only-of-type {\n",
       "        vertical-align: middle;\n",
       "    }\n",
       "\n",
       "    .dataframe tbody tr th {\n",
       "        vertical-align: top;\n",
       "    }\n",
       "\n",
       "    .dataframe thead th {\n",
       "        text-align: right;\n",
       "    }\n",
       "</style>\n",
       "<table border=\"1\" class=\"dataframe\">\n",
       "  <thead>\n",
       "    <tr style=\"text-align: right;\">\n",
       "      <th></th>\n",
       "      <th>source</th>\n",
       "      <th>text</th>\n",
       "      <th>created_at</th>\n",
       "      <th>retweet_count</th>\n",
       "      <th>favorite_count</th>\n",
       "      <th>is_retweet</th>\n",
       "      <th>id_str</th>\n",
       "    </tr>\n",
       "  </thead>\n",
       "  <tbody>\n",
       "    <tr>\n",
       "      <th>0</th>\n",
       "      <td>Twitter for Android</td>\n",
       "      <td>Russians are playing @CNN and @NBCNews for suc...</td>\n",
       "      <td>12-30-2016 22:18:18</td>\n",
       "      <td>23213</td>\n",
       "      <td>84254</td>\n",
       "      <td>False</td>\n",
       "      <td>814958820980039681</td>\n",
       "    </tr>\n",
       "    <tr>\n",
       "      <th>1</th>\n",
       "      <td>Twitter for iPhone</td>\n",
       "      <td>Join @AmerIcan32 founded by Hall of Fame legen...</td>\n",
       "      <td>12-30-2016 19:46:55</td>\n",
       "      <td>7366</td>\n",
       "      <td>25336</td>\n",
       "      <td>False</td>\n",
       "      <td>814920722208296960</td>\n",
       "    </tr>\n",
       "    <tr>\n",
       "      <th>2</th>\n",
       "      <td>Twitter for Android</td>\n",
       "      <td>Great move on delay (by V. Putin) - I always k...</td>\n",
       "      <td>12-30-2016 19:41:33</td>\n",
       "      <td>34415</td>\n",
       "      <td>97669</td>\n",
       "      <td>False</td>\n",
       "      <td>814919370711461890</td>\n",
       "    </tr>\n",
       "    <tr>\n",
       "      <th>3</th>\n",
       "      <td>Twitter for iPhone</td>\n",
       "      <td>My Administration will follow two simple rules...</td>\n",
       "      <td>12-29-2016 14:54:21</td>\n",
       "      <td>11330</td>\n",
       "      <td>45609</td>\n",
       "      <td>False</td>\n",
       "      <td>814484710025994241</td>\n",
       "    </tr>\n",
       "    <tr>\n",
       "      <th>4</th>\n",
       "      <td>Twitter for iPhone</td>\n",
       "      <td>'Economists say Trump delivered hope' https://...</td>\n",
       "      <td>12-28-2016 22:06:28</td>\n",
       "      <td>13919</td>\n",
       "      <td>51857</td>\n",
       "      <td>False</td>\n",
       "      <td>814231064847728640</td>\n",
       "    </tr>\n",
       "  </tbody>\n",
       "</table>\n",
       "</div>"
      ],
      "text/plain": [
       "                source                                               text  \\\n",
       "0  Twitter for Android  Russians are playing @CNN and @NBCNews for suc...   \n",
       "1   Twitter for iPhone  Join @AmerIcan32 founded by Hall of Fame legen...   \n",
       "2  Twitter for Android  Great move on delay (by V. Putin) - I always k...   \n",
       "3   Twitter for iPhone  My Administration will follow two simple rules...   \n",
       "4   Twitter for iPhone  'Economists say Trump delivered hope' https://...   \n",
       "\n",
       "            created_at  retweet_count  favorite_count  is_retweet  \\\n",
       "0  12-30-2016 22:18:18          23213           84254       False   \n",
       "1  12-30-2016 19:46:55           7366           25336       False   \n",
       "2  12-30-2016 19:41:33          34415           97669       False   \n",
       "3  12-29-2016 14:54:21          11330           45609       False   \n",
       "4  12-28-2016 22:06:28          13919           51857       False   \n",
       "\n",
       "               id_str  \n",
       "0  814958820980039681  \n",
       "1  814920722208296960  \n",
       "2  814919370711461890  \n",
       "3  814484710025994241  \n",
       "4  814231064847728640  "
      ]
     },
     "execution_count": 5,
     "metadata": {},
     "output_type": "execute_result"
    }
   ],
   "source": [
    "df.head()"
   ]
  },
  {
   "cell_type": "code",
   "execution_count": 6,
   "metadata": {},
   "outputs": [],
   "source": [
    "df['created_at'] = pd.to_datetime(df['created_at'])"
   ]
  },
  {
   "cell_type": "code",
   "execution_count": 8,
   "metadata": {},
   "outputs": [],
   "source": [
    "df.sort_values(by = 'created_at', ascending = True, inplace = True)"
   ]
  },
  {
   "cell_type": "code",
   "execution_count": 21,
   "metadata": {},
   "outputs": [],
   "source": [
    "df.index = list(range(df.shape[0]))"
   ]
  },
  {
   "cell_type": "code",
   "execution_count": 22,
   "metadata": {},
   "outputs": [
    {
     "data": {
      "text/html": [
       "<div>\n",
       "<style scoped>\n",
       "    .dataframe tbody tr th:only-of-type {\n",
       "        vertical-align: middle;\n",
       "    }\n",
       "\n",
       "    .dataframe tbody tr th {\n",
       "        vertical-align: top;\n",
       "    }\n",
       "\n",
       "    .dataframe thead th {\n",
       "        text-align: right;\n",
       "    }\n",
       "</style>\n",
       "<table border=\"1\" class=\"dataframe\">\n",
       "  <thead>\n",
       "    <tr style=\"text-align: right;\">\n",
       "      <th></th>\n",
       "      <th>source</th>\n",
       "      <th>text</th>\n",
       "      <th>created_at</th>\n",
       "      <th>retweet_count</th>\n",
       "      <th>favorite_count</th>\n",
       "      <th>is_retweet</th>\n",
       "      <th>id_str</th>\n",
       "    </tr>\n",
       "  </thead>\n",
       "  <tbody>\n",
       "    <tr>\n",
       "      <th>0</th>\n",
       "      <td>Twitter for Android</td>\n",
       "      <td>@yankzpat: HEY! I hope to meet @realDonaldTrum...</td>\n",
       "      <td>2015-06-01 09:54:51</td>\n",
       "      <td>10</td>\n",
       "      <td>36</td>\n",
       "      <td>False</td>\n",
       "      <td>605311537255956480</td>\n",
       "    </tr>\n",
       "    <tr>\n",
       "      <th>1</th>\n",
       "      <td>Twitter for Android</td>\n",
       "      <td>I will be on @foxandfriends at 7:00 A.M.  ENJOY!</td>\n",
       "      <td>2015-06-01 10:23:13</td>\n",
       "      <td>26</td>\n",
       "      <td>91</td>\n",
       "      <td>False</td>\n",
       "      <td>605318676955439104</td>\n",
       "    </tr>\n",
       "    <tr>\n",
       "      <th>2</th>\n",
       "      <td>Twitter for Android</td>\n",
       "      <td>@pacsgirl36: @realDonaldTrump run !!! We need ...</td>\n",
       "      <td>2015-06-01 11:29:13</td>\n",
       "      <td>13</td>\n",
       "      <td>51</td>\n",
       "      <td>False</td>\n",
       "      <td>605335287150034945</td>\n",
       "    </tr>\n",
       "    <tr>\n",
       "      <th>3</th>\n",
       "      <td>Twitter for Android</td>\n",
       "      <td>@jkellywwip: @realDonaldTrump killed it on @fo...</td>\n",
       "      <td>2015-06-01 11:29:21</td>\n",
       "      <td>6</td>\n",
       "      <td>25</td>\n",
       "      <td>False</td>\n",
       "      <td>605335318192091136</td>\n",
       "    </tr>\n",
       "    <tr>\n",
       "      <th>4</th>\n",
       "      <td>Twitter for Android</td>\n",
       "      <td>@aalucero: @pacsgirl36  I luv Donald Trump in ...</td>\n",
       "      <td>2015-06-01 12:47:42</td>\n",
       "      <td>11</td>\n",
       "      <td>29</td>\n",
       "      <td>False</td>\n",
       "      <td>605355038488313856</td>\n",
       "    </tr>\n",
       "  </tbody>\n",
       "</table>\n",
       "</div>"
      ],
      "text/plain": [
       "                source                                               text  \\\n",
       "0  Twitter for Android  @yankzpat: HEY! I hope to meet @realDonaldTrum...   \n",
       "1  Twitter for Android   I will be on @foxandfriends at 7:00 A.M.  ENJOY!   \n",
       "2  Twitter for Android  @pacsgirl36: @realDonaldTrump run !!! We need ...   \n",
       "3  Twitter for Android  @jkellywwip: @realDonaldTrump killed it on @fo...   \n",
       "4  Twitter for Android  @aalucero: @pacsgirl36  I luv Donald Trump in ...   \n",
       "\n",
       "           created_at  retweet_count  favorite_count  is_retweet  \\\n",
       "0 2015-06-01 09:54:51             10              36       False   \n",
       "1 2015-06-01 10:23:13             26              91       False   \n",
       "2 2015-06-01 11:29:13             13              51       False   \n",
       "3 2015-06-01 11:29:21              6              25       False   \n",
       "4 2015-06-01 12:47:42             11              29       False   \n",
       "\n",
       "               id_str  \n",
       "0  605311537255956480  \n",
       "1  605318676955439104  \n",
       "2  605335287150034945  \n",
       "3  605335318192091136  \n",
       "4  605355038488313856  "
      ]
     },
     "execution_count": 22,
     "metadata": {},
     "output_type": "execute_result"
    }
   ],
   "source": [
    "df.head()"
   ]
  },
  {
   "cell_type": "code",
   "execution_count": 23,
   "metadata": {},
   "outputs": [
    {
     "data": {
      "text/plain": [
       "'@aalucero: @pacsgirl36  I luv Donald Trump in his sleep he is leaps &amp; bounds over what we have now - I have no doubt he luvs America!'"
      ]
     },
     "execution_count": 23,
     "metadata": {},
     "output_type": "execute_result"
    }
   ],
   "source": [
    "df.text[4]"
   ]
  },
  {
   "cell_type": "code",
   "execution_count": null,
   "metadata": {},
   "outputs": [],
   "source": []
  }
 ],
 "metadata": {
  "kernelspec": {
   "display_name": "Python 3",
   "language": "python",
   "name": "python3"
  },
  "language_info": {
   "codemirror_mode": {
    "name": "ipython",
    "version": 3
   },
   "file_extension": ".py",
   "mimetype": "text/x-python",
   "name": "python",
   "nbconvert_exporter": "python",
   "pygments_lexer": "ipython3",
   "version": "3.7.7"
  }
 },
 "nbformat": 4,
 "nbformat_minor": 4
}
